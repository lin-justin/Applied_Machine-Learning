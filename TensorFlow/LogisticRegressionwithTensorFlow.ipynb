{
 "cells": [
  {
   "cell_type": "markdown",
   "metadata": {},
   "source": [
    "<a href=\"https://www.bigdatauniversity.com\"><img src=\"https://ibm.box.com/shared/static/qo20b88v1hbjztubt06609ovs85q8fau.png\" width=\"400px\"  align=\"center\"></a>\n",
    "<h1 align=\"center\"><font size=\"5\">LOGISTIC REGRESSION WITH TENSORFLOW</font></h1>"
   ]
  },
  {
   "cell_type": "markdown",
   "metadata": {},
   "source": [
    "## Table of Contents\n",
    "\n",
    "Logistic Regression is one of most important techniques in data science. It is usually used to solve the classic classification problem.\n",
    "\n",
    "<div class=\"alert alert-block alert-info\" style=\"margin-top: 20px\">\n",
    "<font size = 3><strong>This lesson covers the following concepts of Logistics Regression:</strong></font>\n",
    "<br>\n",
    "<h2>Table of Contents</h2>\n",
    "\n",
    "<ol>\n",
    "    <li><a href=\"#ref1\">Linear Regression vs Logistic Regression</a></li>\n",
    "    <li><a href=\"#ref2\">Utilizing Logistic Regression in TensorFlow</a></li>\n",
    "    <li><a href=\"#ref3\">Training</a></li>\n",
    "</ol>    \n",
    "</div>\n",
    "<p></p>\n",
    "<br>\n",
    "\n",
    "<hr>"
   ]
  },
  {
   "cell_type": "markdown",
   "metadata": {},
   "source": [
    "<a id=\"ref1\"></a>\n",
    "<h2>What is different between Linear and Logistic Regression?</h2>\n",
    "\n",
    "While Linear Regression is suited for estimating continuous values (e.g. estimating house price), it is n0t the best tool for predicting the class in which an observed data point belongs. In order to provide estimate for classification, we need some sort of guidance on what would be the <b>most probable class</b> for that data point. For this, we use <b>Logistic Regression</b>.\n",
    "\n",
    "<div class=\"alert alert-success alertsuccess\" style=\"margin-top: 20px\">\n",
    "<font size=\"3\"><strong>Recall linear regression:</strong></font>\n",
    "<br>\n",
    "<br>\n",
    "Linear regression finds a function that relates a continuous dependent variable, <i>y</i>, to some predictors (independent variables <i>x1</i>, <i>x2</i>, etc.). Simple linear regression assumes a function of the form:\n",
    "<br><br>\n",
    "$$\n",
    "y = w0 + w1 \\times x1 + w2 \\times x2 + \\cdots\n",
    "$$\n",
    "<br>\n",
    "and finds the values of <i>w0</i>, <i>w1</i>, <i>w2</i>, etc. The term <i>w0</i> is the \"intercept\" or \"constant term\" (it's shown as <i>b</i> in the formula below):\n",
    "<br><br>\n",
    "$$\n",
    "Y = W X + b\n",
    "$$\n",
    "<p></p>\n",
    "\n",
    "</div>\n",
    "\n",
    "Logistic Regression is a variation of Linear Regression, useful when the observed dependent variable, <i>y</i>, is categorical. It produces a formula that predicts the probability of the class label as a function of the independent variables.\n",
    "\n",
    "Despite the name logistic <i>regression</i>, it is actually a <b>probabilistic classification</b> model. Logistic regression fits a special s-shaped curve by taking the linear regression and transforming the numeric estimate into a probability with the following function:\n",
    "\n",
    "$$\n",
    "ProbabilityOfaClass = \\theta(y) = \\frac{e^y}{1 + e^y} = exp(y) / (1 + exp(y)) = p \n",
    "$$\n",
    "\n",
    "which produces p-values between 0 (as y approaches minus infinity $-\\infty$) and 1 (as y approaches plus infinity $+\\infty$). This now becomes a special kind of non-linear regression.\n",
    "\n",
    "In this equation, <i>y</i> is the regression result (the sum of the variables weighted by the coefficients), <code>exp</code> is the exponential function and $\\theta(y)$ is the <a href=\"http://en.wikipedia.org/wiki/Logistic_function\">logistic function</a>, also called logistic curve. It is a common \"S\" shape (sigmoid curve), and was first developed for modeling population growth.\n",
    "\n",
    "You might also have seen this function before, in another configuration:\n",
    "\n",
    "$$\n",
    "ProbabilityOfaClass = \\theta(y) = \\frac{1}{1+e^{-y}}\n",
    "$$\n",
    "\n",
    "So, briefly, Logistic Regression passes the input through the logistic/sigmoid function but then treats the result as a probability:\n",
    "\n",
    "<img src=\"https://ibm.box.com/shared/static/kgv9alcghmjcv97op4d6onkyxevk23b1.png\" width=\"400\" align=\"center\">\n"
   ]
  },
  {
   "cell_type": "markdown",
   "metadata": {},
   "source": [
    "-------------------------------"
   ]
  },
  {
   "cell_type": "markdown",
   "metadata": {},
   "source": [
    "<a id=\"ref2\"></a>\n",
    "<h2>Utilizing Logistic Regression in TensorFlow</h2>\n",
    "\n",
    "For us to utilize Logistic Regression in TensorFlow, we first need to import the required libraries. To do so, you can run the code cell below."
   ]
  },
  {
   "cell_type": "code",
   "execution_count": 2,
   "metadata": {},
   "outputs": [],
   "source": [
    "import tensorflow as tf\n",
    "import pandas as pd\n",
    "import numpy as np\n",
    "import time\n",
    "from sklearn.datasets import load_iris\n",
    "from sklearn.model_selection import train_test_split\n",
    "import matplotlib.pyplot as plt"
   ]
  },
  {
   "cell_type": "markdown",
   "metadata": {},
   "source": [
    "Next, we will load the dataset we are going to use. In this case, we are utilizing the <code>iris</code> dataset, which is inbuilt -- so there's no need to do any preprocessing and we can jump right into manipulating it. We separate the dataset into <i>xs</i> and <i>ys</i>, and then into training <i>xs</i> and <i>ys</i> and testing <i>xs</i> and <i>ys</i>, (pseudo)randomly."
   ]
  },
  {
   "cell_type": "markdown",
   "metadata": {},
   "source": [
    "<h3>Understanding the Data</h3>\n",
    "\n",
    "<h4><code>Iris Dataset</code>:</h4>\n",
    "This dataset was introduced by British Statistician and Biologist Ronald Fisher, it consists of 50 samples from each of three species of Iris (Iris setosa, Iris virginica and Iris versicolor). In total it has 150 records under five attributes - petal length, petal width, sepal length, sepal width and species. <a href=\"https://archive.ics.uci.edu/ml/datasets/iris\">Dataset source</a>\n",
    "\n",
    "Attributes\n",
    "Independent Variable\n",
    "<ul>\n",
    "    <li>petal length</li>\n",
    "    <li>petal width</li>\n",
    "    <li>sepal length</li>\n",
    "    <li>sepal width</li>\n",
    "</ul>\n",
    "Dependent Variable\n",
    "<ul>    \n",
    "    <li>Species\n",
    "        <ul>\n",
    "            <li>Iris setosa</li>\n",
    "            <li>Iris virginica</li>\n",
    "            <li>Iris versicolor</li>\n",
    "        </ul>\n",
    "    </li>\n",
    "</ul>\n",
    "<br>"
   ]
  },
  {
   "cell_type": "code",
   "execution_count": 3,
   "metadata": {
    "collapsed": true
   },
   "outputs": [],
   "source": [
    "iris = load_iris()\n",
    "iris_X, iris_y = iris.data[:-1,:], iris.target[:-1]\n",
    "iris_y= pd.get_dummies(iris_y).values\n",
    "trainX, testX, trainY, testY = train_test_split(iris_X, iris_y, test_size=0.33, random_state=42)"
   ]
  },
  {
   "cell_type": "markdown",
   "metadata": {},
   "source": [
    "Now we define x and y. These placeholders will hold our iris data (both the features and label matrices), and help pass them along to different parts of the algorithm. You can consider placeholders as empty shells into which we insert our data. We also need to give them shapes which correspond to the shape of our data. Later, we will insert data into these placeholders by “feeding” the placeholders the data via a “feed_dict” (Feed Dictionary).\n",
    "\n",
    "<h3>Why use Placeholders?</h3>\n",
    "\n",
    "<ol>\n",
    "    <li>This feature of TensorFlow allows us to create an algorithm which accepts data and knows something about the shape of the data without knowing the amount of data going in.</li>\n",
    "    <li>When we insert “batches” of data in training, we can easily adjust how many examples we train on in a single step without changing the entire algorithm.</li>\n",
    "</ol>"
   ]
  },
  {
   "cell_type": "code",
   "execution_count": 4,
   "metadata": {
    "collapsed": true
   },
   "outputs": [],
   "source": [
    "# numFeatures is the number of features in our input data.\n",
    "# In the iris dataset, this number is '4'.\n",
    "numFeatures = trainX.shape[1]\n",
    "\n",
    "# numLabels is the number of classes our data points can be in.\n",
    "# In the iris dataset, this number is '3'.\n",
    "numLabels = trainY.shape[1]\n",
    "\n",
    "\n",
    "# Placeholders\n",
    "# 'None' means TensorFlow shouldn't expect a fixed number in that dimension\n",
    "X = tf.placeholder(tf.float32, [None, numFeatures]) # Iris has 4 features, so X is a tensor to hold our data.\n",
    "yGold = tf.placeholder(tf.float32, [None, numLabels]) # This will be our correct answers matrix for 3 classes."
   ]
  },
  {
   "cell_type": "markdown",
   "metadata": {},
   "source": [
    "<h3>Set model weights and bias</h3>\n",
    "\n",
    "Much like Linear Regression, we need a shared variable weight matrix for Logistic Regression. We initialize both <code>W</code> and <code>b</code> as tensors full of zeros. Since we are going to learn <code>W</code> and <code>b</code>, their initial value does not matter too much. These variables are the objects which define the structure of our regression model, and we can save them after they have been trained so we can reuse them later.\n",
    "\n",
    "We define two TensorFlow variables as our parameters. These variables will hold the weights and biases of our logistic regression and they will be continually updated during training. \n",
    "\n",
    "Notice that <code>W</code> has a shape of [4, 3] because we want to multiply the 4-dimensional input vectors by it to produce 3-dimensional vectors of evidence for the difference classes. <code>b</code> has a shape of [3] so we can add it to the output. Moreover, unlike our placeholders above which are essentially empty shells waiting to be fed data, TensorFlow variables need to be initialized with values, e.g. with zeros."
   ]
  },
  {
   "cell_type": "code",
   "execution_count": 5,
   "metadata": {
    "collapsed": true
   },
   "outputs": [],
   "source": [
    "W = tf.Variable(tf.zeros([4, 3]))  # 4-dimensional input and  3 classes\n",
    "b = tf.Variable(tf.zeros([3])) # 3-dimensional output [0,0,1],[0,1,0],[1,0,0]"
   ]
  },
  {
   "cell_type": "code",
   "execution_count": 6,
   "metadata": {
    "collapsed": true
   },
   "outputs": [],
   "source": [
    "#Randomly sample from a normal distribution with standard deviation .01\n",
    "\n",
    "weights = tf.Variable(tf.random_normal([numFeatures,numLabels],\n",
    "                                       mean=0,\n",
    "                                       stddev=0.01,\n",
    "                                       name=\"weights\"))\n",
    "\n",
    "bias = tf.Variable(tf.random_normal([1,numLabels],\n",
    "                                    mean=0,\n",
    "                                    stddev=0.01,\n",
    "                                    name=\"bias\"))"
   ]
  },
  {
   "cell_type": "markdown",
   "metadata": {},
   "source": [
    "<h3>Logistic Regression model</h3>\n",
    "\n",
    "We now define our operations in order to properly run the Logistic Regression. Logistic regression is typically thought of as a single equation:\n",
    "\n",
    "$$\n",
    "ŷ =sigmoid(WX+b)\n",
    "$$\n",
    "\n",
    "However, for the sake of clarity, we can have it broken into its three main components: \n",
    "- a weight times features matrix multiplication operation, \n",
    "- a summation of the weighted features and a bias term, \n",
    "- and finally the application of a sigmoid function. \n",
    "\n",
    "As such, you will find these components defined as three separate operations below.\n"
   ]
  },
  {
   "cell_type": "code",
   "execution_count": 7,
   "metadata": {
    "collapsed": true
   },
   "outputs": [],
   "source": [
    "# Three-component breakdown of the Logistic Regression equation.\n",
    "# Note that these feed into each other.\n",
    "apply_weights_OP = tf.matmul(X, weights, name=\"apply_weights\")\n",
    "add_bias_OP = tf.add(apply_weights_OP, bias, name=\"add_bias\") \n",
    "activation_OP = tf.nn.sigmoid(add_bias_OP, name=\"activation\")"
   ]
  },
  {
   "cell_type": "markdown",
   "metadata": {},
   "source": [
    "As we have seen before, the function we are going to use is the <i>logistic function</i> $(\\frac{1}{1+e^{-Wx}})$, which is fed the input data after applying weights and bias. In TensorFlow, this function is implemented as the <code>nn.sigmoid</code> function. Effectively, this fits the weighted input with bias into a 0-100 percent curve, which is the probability function we want."
   ]
  },
  {
   "cell_type": "markdown",
   "metadata": {},
   "source": [
    "<hr>"
   ]
  },
  {
   "cell_type": "markdown",
   "metadata": {},
   "source": [
    "<a id=\"ref3\"></a>\n",
    "<h2>Training</h2>\n",
    "\n",
    "The learning algorithm is how we search for the best weight vector (${\\bf w}$). This search is an optimization problem looking for the hypothesis that optimizes an error/cost measure.\n",
    "\n",
    "<b>What tell us our model is bad?</b>  \n",
    "The Cost or Loss of the model, so what we want is to minimize that. \n",
    "\n",
    "<b>What is the cost function in our model?</b>  \n",
    "The cost function we are going to utilize is the Squared Mean Error loss function.\n",
    "\n",
    "<b>How to minimize the cost function?</b>   \n",
    "We can't use <b>least-squares linear regression</b> here, so we will use <a href=\"http://en.wikipedia.org/wiki/Gradient_descent\">gradient descent</a> instead. Specifically, we will use batch gradient descent which calculates the gradient from all data points in the data set.\n",
    "\n",
    "<h3>Cost function</h3>\n",
    "Before defining our cost function, we need to define how long we are going to train and how should we define the learning rate."
   ]
  },
  {
   "cell_type": "code",
   "execution_count": 8,
   "metadata": {
    "collapsed": true
   },
   "outputs": [],
   "source": [
    "# Number of Epochs in our training\n",
    "numEpochs = 700\n",
    "\n",
    "# Defining our learning rate iterations (decay)\n",
    "learningRate = tf.train.exponential_decay(learning_rate=0.0008,\n",
    "                                          global_step= 1,\n",
    "                                          decay_steps=trainX.shape[0],\n",
    "                                          decay_rate= 0.95,\n",
    "                                          staircase=True)"
   ]
  },
  {
   "cell_type": "code",
   "execution_count": 9,
   "metadata": {
    "collapsed": true
   },
   "outputs": [],
   "source": [
    "#Defining our cost function - Squared Mean Error\n",
    "cost_OP = tf.nn.l2_loss(activation_OP-yGold, name=\"squared_error_cost\")\n",
    "\n",
    "#Defining our Gradient Descent\n",
    "training_OP = tf.train.GradientDescentOptimizer(learningRate).minimize(cost_OP)"
   ]
  },
  {
   "cell_type": "markdown",
   "metadata": {},
   "source": [
    "Now we move on to actually running our operations. We will start with the operations involved in the prediction phase (i.e. the logistic regression itself).\n",
    "\n",
    "First, we need to initialize our weights and biases with zeros or random values via the inbuilt Initialization Op, <b>tf.initialize_all_variables()</b>. This Initialization Op will become a node in our computational graph, and when we put the graph into a session, then the Op will run and create the variables."
   ]
  },
  {
   "cell_type": "code",
   "execution_count": 11,
   "metadata": {
    "collapsed": true
   },
   "outputs": [],
   "source": [
    "# Create a tensorflow session\n",
    "sess = tf.Session()\n",
    "\n",
    "# Initialize our weights and biases variables.\n",
    "init_OP = tf.global_variables_initializer()\n",
    "\n",
    "# Initialize all tensorflow variables\n",
    "sess.run(init_OP)"
   ]
  },
  {
   "cell_type": "markdown",
   "metadata": {},
   "source": [
    "We also want some additional operations to keep track of our model's efficiency over time. We can do this like so:"
   ]
  },
  {
   "cell_type": "code",
   "execution_count": 12,
   "metadata": {
    "collapsed": true
   },
   "outputs": [],
   "source": [
    "# argmax(activation_OP, 1) returns the label with the most probability\n",
    "# argmax(yGold, 1) is the correct label\n",
    "correct_predictions_OP = tf.equal(tf.argmax(activation_OP,1),tf.argmax(yGold,1))\n",
    "\n",
    "# If every false prediction is 0 and every true prediction is 1, the average returns us the accuracy\n",
    "accuracy_OP = tf.reduce_mean(tf.cast(correct_predictions_OP, \"float\"))\n",
    "\n",
    "# Summary op for regression output\n",
    "activation_summary_OP = tf.summary.histogram(\"output\", activation_OP)\n",
    "\n",
    "# Summary op for accuracy\n",
    "accuracy_summary_OP = tf.summary.scalar(\"accuracy\", accuracy_OP)\n",
    "\n",
    "# Summary op for cost\n",
    "cost_summary_OP = tf.summary.scalar(\"cost\", cost_OP)\n",
    "\n",
    "# Summary ops to check how variables (W, b) are updating after each iteration\n",
    "weightSummary = tf.summary.histogram(\"weights\", weights.eval(session=sess))\n",
    "biasSummary = tf.summary.histogram(\"biases\", bias.eval(session=sess))\n",
    "\n",
    "# Merge all summaries\n",
    "merged = tf.summary.merge([activation_summary_OP, accuracy_summary_OP, cost_summary_OP, weightSummary, biasSummary])\n",
    "\n",
    "# Summary writer\n",
    "writer = tf.summary.FileWriter(\"summary_logs\", sess.graph)"
   ]
  },
  {
   "cell_type": "markdown",
   "metadata": {},
   "source": [
    "Now we can define and run the actual training loop, like this:"
   ]
  },
  {
   "cell_type": "code",
   "execution_count": 13,
   "metadata": {},
   "outputs": [
    {
     "name": "stdout",
     "output_type": "stream",
     "text": [
      "step 0, training accuracy 0.353535, cost 34.4488, change in cost 34.4488\n",
      "step 10, training accuracy 0.59596, cost 30.091, change in cost 4.35778\n",
      "step 20, training accuracy 0.646465, cost 28.1516, change in cost 1.93941\n",
      "step 30, training accuracy 0.646465, cost 26.5142, change in cost 1.63736\n",
      "step 40, training accuracy 0.646465, cost 25.1534, change in cost 1.36081\n",
      "step 50, training accuracy 0.646465, cost 24.029, change in cost 1.12444\n",
      "step 60, training accuracy 0.646465, cost 23.0981, change in cost 0.930902\n",
      "step 70, training accuracy 0.646465, cost 22.3224, change in cost 0.775658\n",
      "step 80, training accuracy 0.646465, cost 21.6704, change in cost 0.652056\n",
      "step 90, training accuracy 0.646465, cost 21.1168, change in cost 0.553596\n",
      "step 100, training accuracy 0.656566, cost 20.642, change in cost 0.474789\n",
      "step 110, training accuracy 0.666667, cost 20.2307, change in cost 0.411259\n",
      "step 120, training accuracy 0.666667, cost 19.8711, change in cost 0.359615\n",
      "step 130, training accuracy 0.666667, cost 19.5539, change in cost 0.317268\n",
      "step 140, training accuracy 0.666667, cost 19.2716, change in cost 0.282242\n",
      "step 150, training accuracy 0.666667, cost 19.0186, change in cost 0.253004\n",
      "step 160, training accuracy 0.676768, cost 18.7902, change in cost 0.228418\n",
      "step 170, training accuracy 0.686869, cost 18.5826, change in cost 0.207567\n",
      "step 180, training accuracy 0.686869, cost 18.3929, change in cost 0.18976\n",
      "step 190, training accuracy 0.69697, cost 18.2184, change in cost 0.174435\n",
      "step 200, training accuracy 0.717172, cost 18.0573, change in cost 0.161163\n",
      "step 210, training accuracy 0.737374, cost 17.9077, change in cost 0.149597\n",
      "step 220, training accuracy 0.737374, cost 17.7682, change in cost 0.139467\n",
      "step 230, training accuracy 0.747475, cost 17.6377, change in cost 0.130527\n",
      "step 240, training accuracy 0.757576, cost 17.5151, change in cost 0.122612\n",
      "step 250, training accuracy 0.767677, cost 17.3995, change in cost 0.115559\n",
      "step 260, training accuracy 0.787879, cost 17.2903, change in cost 0.109251\n",
      "step 270, training accuracy 0.787879, cost 17.1867, change in cost 0.103584\n",
      "step 280, training accuracy 0.787879, cost 17.0882, change in cost 0.098465\n",
      "step 290, training accuracy 0.787879, cost 16.9944, change in cost 0.093832\n",
      "step 300, training accuracy 0.79798, cost 16.9048, change in cost 0.0896149\n",
      "step 310, training accuracy 0.79798, cost 16.819, change in cost 0.0857639\n",
      "step 320, training accuracy 0.79798, cost 16.7367, change in cost 0.0822449\n",
      "step 330, training accuracy 0.79798, cost 16.6577, change in cost 0.0790043\n",
      "step 340, training accuracy 0.808081, cost 16.5817, change in cost 0.0760231\n",
      "step 350, training accuracy 0.818182, cost 16.5085, change in cost 0.0732632\n",
      "step 360, training accuracy 0.828283, cost 16.4378, change in cost 0.0707016\n",
      "step 370, training accuracy 0.838384, cost 16.3694, change in cost 0.0683327\n",
      "step 380, training accuracy 0.838384, cost 16.3033, change in cost 0.0661144\n",
      "step 390, training accuracy 0.848485, cost 16.2393, change in cost 0.0640507\n",
      "step 400, training accuracy 0.848485, cost 16.1771, change in cost 0.0621109\n",
      "step 410, training accuracy 0.848485, cost 16.1169, change in cost 0.0602951\n",
      "step 420, training accuracy 0.848485, cost 16.0583, change in cost 0.0585918\n",
      "step 430, training accuracy 0.848485, cost 16.0013, change in cost 0.0569801\n",
      "step 440, training accuracy 0.868687, cost 15.9458, change in cost 0.0554676\n",
      "step 450, training accuracy 0.868687, cost 15.8918, change in cost 0.0540304\n",
      "step 460, training accuracy 0.868687, cost 15.8391, change in cost 0.0526714\n",
      "step 470, training accuracy 0.878788, cost 15.7877, change in cost 0.0513849\n",
      "step 480, training accuracy 0.878788, cost 15.7376, change in cost 0.0501614\n",
      "step 490, training accuracy 0.878788, cost 15.6886, change in cost 0.048995\n",
      "step 500, training accuracy 0.878788, cost 15.6407, change in cost 0.0478849\n",
      "step 510, training accuracy 0.878788, cost 15.5939, change in cost 0.0468254\n",
      "step 520, training accuracy 0.878788, cost 15.548, change in cost 0.0458136\n",
      "step 530, training accuracy 0.878788, cost 15.5032, change in cost 0.0448446\n",
      "step 540, training accuracy 0.89899, cost 15.4593, change in cost 0.0439196\n",
      "step 550, training accuracy 0.89899, cost 15.4163, change in cost 0.0430279\n",
      "step 560, training accuracy 0.89899, cost 15.3741, change in cost 0.0421801\n",
      "step 570, training accuracy 0.89899, cost 15.3327, change in cost 0.0413589\n",
      "step 580, training accuracy 0.89899, cost 15.2921, change in cost 0.0405684\n",
      "step 590, training accuracy 0.909091, cost 15.2523, change in cost 0.0398083\n",
      "step 600, training accuracy 0.909091, cost 15.2133, change in cost 0.0390797\n",
      "step 610, training accuracy 0.909091, cost 15.1749, change in cost 0.038372\n",
      "step 620, training accuracy 0.909091, cost 15.1372, change in cost 0.037694\n",
      "step 630, training accuracy 0.909091, cost 15.1002, change in cost 0.0370369\n",
      "step 640, training accuracy 0.909091, cost 15.0638, change in cost 0.0363989\n",
      "step 650, training accuracy 0.909091, cost 15.028, change in cost 0.0357857\n",
      "step 660, training accuracy 0.909091, cost 14.9928, change in cost 0.0351906\n",
      "step 670, training accuracy 0.909091, cost 14.9582, change in cost 0.0346136\n",
      "step 680, training accuracy 0.909091, cost 14.9241, change in cost 0.0340557\n",
      "step 690, training accuracy 0.909091, cost 14.8906, change in cost 0.0335121\n",
      "final accuracy on test set: 0.9\n"
     ]
    }
   ],
   "source": [
    "# Initialize reporting variables\n",
    "cost = 0\n",
    "diff = 1\n",
    "epoch_values = []\n",
    "accuracy_values = []\n",
    "cost_values = []\n",
    "\n",
    "# Training epochs\n",
    "for i in range(numEpochs):\n",
    "    if i > 1 and diff < .0001:\n",
    "        print(\"change in cost %g; convergence.\"%diff)\n",
    "        break\n",
    "    else:\n",
    "        # Run training step\n",
    "        step = sess.run(training_OP, feed_dict={X: trainX, yGold: trainY})\n",
    "        # Report occasional stats\n",
    "        if i % 10 == 0:\n",
    "            # Add epoch to epoch_values\n",
    "            epoch_values.append(i)\n",
    "            # Generate accuracy stats on test data\n",
    "            train_accuracy, newCost = sess.run([accuracy_OP, cost_OP], feed_dict={X: trainX, yGold: trainY})\n",
    "            # Add accuracy to live graphing variable\n",
    "            accuracy_values.append(train_accuracy)\n",
    "            # Add cost to live graphing variable\n",
    "            cost_values.append(newCost)\n",
    "            # Re-assign values for variables\n",
    "            diff = abs(newCost - cost)\n",
    "            cost = newCost\n",
    "\n",
    "            #generate print statements\n",
    "            print(\"step %d, training accuracy %g, cost %g, change in cost %g\"%(i, train_accuracy, newCost, diff))\n",
    "\n",
    "\n",
    "# How well do we perform on held-out test data?\n",
    "print(\"final accuracy on test set: %s\" %str(sess.run(accuracy_OP, \n",
    "                                                     feed_dict={X: testX, \n",
    "                                                                yGold: testY})))"
   ]
  },
  {
   "cell_type": "markdown",
   "metadata": {},
   "source": [
    "<b>Why don't we plot the cost to see how it behaves?</b>"
   ]
  },
  {
   "cell_type": "code",
   "execution_count": 14,
   "metadata": {},
   "outputs": [
    {
     "name": "stderr",
     "output_type": "stream",
     "text": [
      "/home/jupyterlab/conda/lib/python3.6/site-packages/numpy/core/fromnumeric.py:2920: RuntimeWarning: Mean of empty slice.\n",
      "  out=out, **kwargs)\n",
      "/home/jupyterlab/conda/lib/python3.6/site-packages/numpy/core/_methods.py:85: RuntimeWarning: invalid value encountered in double_scalars\n",
      "  ret = ret.dtype.type(ret / rcount)\n"
     ]
    },
    {
     "data": {
      "image/png": "[encoded data removed]",
      "text/plain": [
       "<Figure size 432x288 with 1 Axes>"
      ]
     },
     "metadata": {
      "needs_background": "light"
     },
     "output_type": "display_data"
    }
   ],
   "source": [
    "%matplotlib inline\n",
    "import numpy as np\n",
    "import matplotlib.pyplot as plt\n",
    "plt.plot([np.mean(cost_values[i-50:i]) for i in range(len(cost_values))])\n",
    "plt.show()"
   ]
  },
  {
   "cell_type": "markdown",
   "metadata": {},
   "source": [
    "Assuming no parameters were changed, you should reach a peak accuracy of 90% at the end of training, which is commendable. Try changing the parameters such as the length of training, and maybe some operations to see how the model behaves. Does it take much longer? How is the performance?"
   ]
  },
  {
   "cell_type": "markdown",
   "metadata": {},
   "source": [
    "<hr>"
   ]
  },
  {
   "cell_type": "markdown",
   "metadata": {},
   "source": [
    "## Want to learn more?\n",
    "\n",
    "Running deep learning programs usually needs a high performance platform. __PowerAI__ speeds up deep learning and AI. Built on IBM’s Power Systems, __PowerAI__ is a scalable software platform that accelerates deep learning and AI with blazing performance for individual users or enterprises. The __PowerAI__ platform supports popular machine learning libraries and dependencies including TensorFlow, Caffe, Torch, and Theano. You can use [PowerAI on IMB Cloud](https://cocl.us/ML0120EN_PAI).\n",
    "\n",
    "Also, you can use __Watson Studio__ to run these notebooks faster with bigger datasets.__Watson Studio__ is IBM’s leading cloud solution for data scientists, built by data scientists. With Jupyter notebooks, RStudio, Apache Spark and popular libraries pre-packaged in the cloud, __Watson Studio__ enables data scientists to collaborate on their projects without having to install anything. Join the fast-growing community of __Watson Studio__ users today with a free account at [Watson Studio](https://cocl.us/ML0120EN_DSX).This is the end of this lesson. Thank you for reading this notebook, and good luck on your studies."
   ]
  },
  {
   "cell_type": "markdown",
   "metadata": {},
   "source": [
    "### Thanks for completing this lesson!\n",
    "\n",
    "This is the end of **Logistic Regression with TensorFlow** notebook. Hopefully, now you have a deeper understanding of Logistic Regression and how its structure and flow work. Thank you for reading this notebook and good luck on your studies."
   ]
  },
  {
   "cell_type": "markdown",
   "metadata": {},
   "source": [
    "Created by: <a href=\"https://br.linkedin.com/in/walter-gomes-de-amorim-junior-624726121\">Saeed Aghabozorgi</a> , <a href=\"https://br.linkedin.com/in/walter-gomes-de-amorim-junior-624726121\">Walter Gomes de Amorim Junior</a> ,  Victor Barros Costa\n"
   ]
  },
  {
   "cell_type": "markdown",
   "metadata": {},
   "source": [
    "<hr>\n",
    "\n",
    "Copyright &copy; 2018 [Cognitive Class](https://cocl.us/DX0108EN_CC). This notebook and its source code are released under the terms of the [MIT License](https://bigdatauniversity.com/mit-license/)."
   ]
  }
 ],
 "metadata": {
  "kernelspec": {
   "display_name": "Python 3",
   "language": "python",
   "name": "python3"
  },
  "language_info": {
   "codemirror_mode": {
    "name": "ipython",
    "version": 3
   },
   "file_extension": ".py",
   "mimetype": "text/x-python",
   "name": "python",
   "nbconvert_exporter": "python",
   "pygments_lexer": "ipython3",
   "version": "3.6.8"
  }
 },
 "nbformat": 4,
 "nbformat_minor": 2
}
