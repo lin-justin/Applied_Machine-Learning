{
 "cells": [
  {
   "cell_type": "markdown",
   "metadata": {},
   "source": [
    "## Part I. Multi-layer Feedforward Neural Network for Classification"
   ]
  },
  {
   "cell_type": "markdown",
   "metadata": {},
   "source": [
    "Import all necessary libraries"
   ]
  },
  {
   "cell_type": "code",
   "execution_count": 1,
   "metadata": {},
   "outputs": [
    {
     "name": "stderr",
     "output_type": "stream",
     "text": [
      "Using TensorFlow backend.\n"
     ]
    }
   ],
   "source": [
    "import pandas as pd\n",
    "import numpy as np\n",
    "import matplotlib.pyplot as plt\n",
    "%matplotlib inline\n",
    "import seaborn as sb\n",
    "from sklearn.model_selection import train_test_split\n",
    "from sklearn.metrics import confusion_matrix, precision_score, accuracy_score\n",
    "from sklearn.preprocessing import LabelEncoder, MinMaxScaler, StandardScaler, OrdinalEncoder, OneHotEncoder\n",
    "import tensorflow as tf\n",
    "from tensorflow import keras\n",
    "from keras.callbacks import EarlyStopping\n",
    "from keras import regularizers, optimizers\n",
    "from keras.models import Sequential\n",
    "from keras.layers import Dense, Dropout\n",
    "import warnings \n",
    "warnings.filterwarnings('ignore')"
   ]
  },
  {
   "cell_type": "markdown",
   "metadata": {},
   "source": [
    "**a.** Explore the labeled data. Based on your exploratory results, identify one or more features that may be important or appear interesting to you. You should support your answers with tables and/or graphs and brief explanations."
   ]
  },
  {
   "cell_type": "code",
   "execution_count": 2,
   "metadata": {},
   "outputs": [
    {
     "data": {
      "text/html": [
       "<div>\n",
       "<style scoped>\n",
       "    .dataframe tbody tr th:only-of-type {\n",
       "        vertical-align: middle;\n",
       "    }\n",
       "\n",
       "    .dataframe tbody tr th {\n",
       "        vertical-align: top;\n",
       "    }\n",
       "\n",
       "    .dataframe thead th {\n",
       "        text-align: right;\n",
       "    }\n",
       "</style>\n",
       "<table border=\"1\" class=\"dataframe\">\n",
       "  <thead>\n",
       "    <tr style=\"text-align: right;\">\n",
       "      <th></th>\n",
       "      <th>age</th>\n",
       "      <th>bp</th>\n",
       "      <th>sg</th>\n",
       "      <th>al</th>\n",
       "      <th>su</th>\n",
       "      <th>rbc</th>\n",
       "      <th>pc</th>\n",
       "      <th>pcc</th>\n",
       "      <th>ba</th>\n",
       "      <th>bgr</th>\n",
       "      <th>...</th>\n",
       "      <th>pcv</th>\n",
       "      <th>wc</th>\n",
       "      <th>rc</th>\n",
       "      <th>htn</th>\n",
       "      <th>dm</th>\n",
       "      <th>cad</th>\n",
       "      <th>appet</th>\n",
       "      <th>pe</th>\n",
       "      <th>ane</th>\n",
       "      <th>classification</th>\n",
       "    </tr>\n",
       "  </thead>\n",
       "  <tbody>\n",
       "    <tr>\n",
       "      <th>patient_0</th>\n",
       "      <td>56</td>\n",
       "      <td>80</td>\n",
       "      <td>1.010</td>\n",
       "      <td>1</td>\n",
       "      <td>0</td>\n",
       "      <td>1</td>\n",
       "      <td>1</td>\n",
       "      <td>0</td>\n",
       "      <td>0</td>\n",
       "      <td>165</td>\n",
       "      <td>...</td>\n",
       "      <td>40</td>\n",
       "      <td>11800</td>\n",
       "      <td>5.0</td>\n",
       "      <td>1</td>\n",
       "      <td>1</td>\n",
       "      <td>0</td>\n",
       "      <td>0</td>\n",
       "      <td>1</td>\n",
       "      <td>0</td>\n",
       "      <td>1</td>\n",
       "    </tr>\n",
       "    <tr>\n",
       "      <th>patient_1</th>\n",
       "      <td>70</td>\n",
       "      <td>70</td>\n",
       "      <td>1.010</td>\n",
       "      <td>1</td>\n",
       "      <td>0</td>\n",
       "      <td>1</td>\n",
       "      <td>0</td>\n",
       "      <td>1</td>\n",
       "      <td>1</td>\n",
       "      <td>171</td>\n",
       "      <td>...</td>\n",
       "      <td>27</td>\n",
       "      <td>9600</td>\n",
       "      <td>3.4</td>\n",
       "      <td>0</td>\n",
       "      <td>1</td>\n",
       "      <td>0</td>\n",
       "      <td>0</td>\n",
       "      <td>0</td>\n",
       "      <td>0</td>\n",
       "      <td>1</td>\n",
       "    </tr>\n",
       "    <tr>\n",
       "      <th>patient_2</th>\n",
       "      <td>76</td>\n",
       "      <td>70</td>\n",
       "      <td>1.015</td>\n",
       "      <td>1</td>\n",
       "      <td>0</td>\n",
       "      <td>1</td>\n",
       "      <td>1</td>\n",
       "      <td>0</td>\n",
       "      <td>0</td>\n",
       "      <td>92</td>\n",
       "      <td>...</td>\n",
       "      <td>32</td>\n",
       "      <td>9600</td>\n",
       "      <td>3.7</td>\n",
       "      <td>1</td>\n",
       "      <td>0</td>\n",
       "      <td>0</td>\n",
       "      <td>1</td>\n",
       "      <td>0</td>\n",
       "      <td>0</td>\n",
       "      <td>1</td>\n",
       "    </tr>\n",
       "    <tr>\n",
       "      <th>patient_3</th>\n",
       "      <td>51</td>\n",
       "      <td>60</td>\n",
       "      <td>1.025</td>\n",
       "      <td>0</td>\n",
       "      <td>0</td>\n",
       "      <td>1</td>\n",
       "      <td>1</td>\n",
       "      <td>0</td>\n",
       "      <td>0</td>\n",
       "      <td>99</td>\n",
       "      <td>...</td>\n",
       "      <td>49</td>\n",
       "      <td>8300</td>\n",
       "      <td>5.2</td>\n",
       "      <td>0</td>\n",
       "      <td>0</td>\n",
       "      <td>0</td>\n",
       "      <td>1</td>\n",
       "      <td>0</td>\n",
       "      <td>0</td>\n",
       "      <td>0</td>\n",
       "    </tr>\n",
       "    <tr>\n",
       "      <th>patient_4</th>\n",
       "      <td>58</td>\n",
       "      <td>70</td>\n",
       "      <td>1.025</td>\n",
       "      <td>0</td>\n",
       "      <td>0</td>\n",
       "      <td>1</td>\n",
       "      <td>1</td>\n",
       "      <td>0</td>\n",
       "      <td>0</td>\n",
       "      <td>88</td>\n",
       "      <td>...</td>\n",
       "      <td>53</td>\n",
       "      <td>9100</td>\n",
       "      <td>5.2</td>\n",
       "      <td>0</td>\n",
       "      <td>0</td>\n",
       "      <td>0</td>\n",
       "      <td>1</td>\n",
       "      <td>0</td>\n",
       "      <td>0</td>\n",
       "      <td>0</td>\n",
       "    </tr>\n",
       "  </tbody>\n",
       "</table>\n",
       "<p>5 rows × 25 columns</p>\n",
       "</div>"
      ],
      "text/plain": [
       "           age  bp     sg  al  su  rbc  pc  pcc  ba  bgr  ...  pcv     wc  \\\n",
       "patient_0   56  80  1.010   1   0    1   1    0   0  165  ...   40  11800   \n",
       "patient_1   70  70  1.010   1   0    1   0    1   1  171  ...   27   9600   \n",
       "patient_2   76  70  1.015   1   0    1   1    0   0   92  ...   32   9600   \n",
       "patient_3   51  60  1.025   0   0    1   1    0   0   99  ...   49   8300   \n",
       "patient_4   58  70  1.025   0   0    1   1    0   0   88  ...   53   9100   \n",
       "\n",
       "            rc  htn  dm  cad  appet  pe  ane  classification  \n",
       "patient_0  5.0    1   1    0      0   1    0               1  \n",
       "patient_1  3.4    0   1    0      0   0    0               1  \n",
       "patient_2  3.7    1   0    0      1   0    0               1  \n",
       "patient_3  5.2    0   0    0      1   0    0               0  \n",
       "patient_4  5.2    0   0    0      1   0    0               0  \n",
       "\n",
       "[5 rows x 25 columns]"
      ]
     },
     "execution_count": 2,
     "metadata": {},
     "output_type": "execute_result"
    }
   ],
   "source": [
    "train_data = pd.read_csv('hw3_labeled_data.csv', index_col = 0)\n",
    "train_data.head()"
   ]
  },
  {
   "cell_type": "code",
   "execution_count": 19,
   "metadata": {},
   "outputs": [
    {
     "data": {
      "text/plain": [
       "age               0\n",
       "bp                0\n",
       "sg                0\n",
       "al                0\n",
       "su                0\n",
       "rbc               0\n",
       "pc                0\n",
       "pcc               0\n",
       "ba                0\n",
       "bgr               0\n",
       "bu                0\n",
       "sc                0\n",
       "sod               0\n",
       "pot               0\n",
       "hemo              0\n",
       "pcv               0\n",
       "wc                0\n",
       "rc                0\n",
       "htn               0\n",
       "dm                0\n",
       "cad               0\n",
       "appet             0\n",
       "pe                0\n",
       "ane               0\n",
       "classification    0\n",
       "dtype: int64"
      ]
     },
     "execution_count": 19,
     "metadata": {},
     "output_type": "execute_result"
    }
   ],
   "source": [
    "train_data.isnull().sum() #check if there are any missing values"
   ]
  },
  {
   "cell_type": "code",
   "execution_count": 4,
   "metadata": {},
   "outputs": [
    {
     "data": {
      "text/plain": [
       "age                 int64\n",
       "bp                  int64\n",
       "sg                float64\n",
       "al                  int64\n",
       "su                  int64\n",
       "rbc                 int64\n",
       "pc                  int64\n",
       "pcc                 int64\n",
       "ba                  int64\n",
       "bgr                 int64\n",
       "bu                float64\n",
       "sc                float64\n",
       "sod                 int64\n",
       "pot               float64\n",
       "hemo              float64\n",
       "pcv                 int64\n",
       "wc                  int64\n",
       "rc                float64\n",
       "htn                 int64\n",
       "dm                  int64\n",
       "cad                 int64\n",
       "appet               int64\n",
       "pe                  int64\n",
       "ane                 int64\n",
       "classification      int64\n",
       "dtype: object"
      ]
     },
     "execution_count": 4,
     "metadata": {},
     "output_type": "execute_result"
    }
   ],
   "source": [
    "train_data.dtypes # look at data types for each column"
   ]
  },
  {
   "cell_type": "code",
   "execution_count": 5,
   "metadata": {},
   "outputs": [
    {
     "data": {
      "text/plain": [
       "age                70\n",
       "bp                  9\n",
       "sg                  5\n",
       "al                  6\n",
       "su                  6\n",
       "rbc                 2\n",
       "pc                  2\n",
       "pcc                 2\n",
       "ba                  2\n",
       "bgr               125\n",
       "bu                101\n",
       "sc                 66\n",
       "sod                30\n",
       "pot                37\n",
       "hemo              105\n",
       "pcv                37\n",
       "wc                 83\n",
       "rc                 43\n",
       "htn                 2\n",
       "dm                  2\n",
       "cad                 2\n",
       "appet               2\n",
       "pe                  2\n",
       "ane                 2\n",
       "classification      2\n",
       "dtype: int64"
      ]
     },
     "execution_count": 5,
     "metadata": {},
     "output_type": "execute_result"
    }
   ],
   "source": [
    "train_data.nunique() #see number of unique values for each column"
   ]
  },
  {
   "cell_type": "code",
   "execution_count": 6,
   "metadata": {},
   "outputs": [
    {
     "data": {
      "text/plain": [
       "<matplotlib.axes._subplots.AxesSubplot at 0x1ed9f013940>"
      ]
     },
     "execution_count": 6,
     "metadata": {},
     "output_type": "execute_result"
    },
    {
     "data": {
      "image/png": "[encoded data removed]",
      "text/plain": [
       "<Figure size 576x720 with 2 Axes>"
      ]
     },
     "metadata": {
      "needs_background": "light"
     },
     "output_type": "display_data"
    }
   ],
   "source": [
    "f, ax = plt.subplots(figsize=(8,10))\n",
    "corr = train_data.corr()\n",
    "sb.heatmap(corr,\n",
    "          xticklabels=corr.columns.values,\n",
    "          yticklabels=corr.columns.values)"
   ]
  },
  {
   "cell_type": "code",
   "execution_count": 7,
   "metadata": {},
   "outputs": [
    {
     "name": "stdout",
     "output_type": "stream",
     "text": [
      "The 8 features strongly correlated with the classification variable:\n",
      "al      0.615873\n",
      "htn     0.586535\n",
      "dm      0.569364\n",
      "rbc    -0.518775\n",
      "rc     -0.608310\n",
      "sg     -0.673659\n",
      "pcv    -0.740118\n",
      "hemo   -0.767726\n",
      "Name: classification, dtype: float64\n"
     ]
    }
   ],
   "source": [
    "# see which variables are correlated with the classification variable\n",
    "train_data_corr = train_data.corr()['classification'][:-1]\n",
    "features = train_data_corr[abs(train_data_corr)>0.5].sort_values(ascending=False)\n",
    "print('The {} features strongly correlated with the classification variable:\\n{}'.format(len(features),features))"
   ]
  },
  {
   "cell_type": "markdown",
   "metadata": {},
   "source": [
    "From my correlation table, it appears that the variables `al`, `htn`, `dm` are **positively correlated** with `classification` while `rbc`, `rc`, `sg`, `pcv`, `hemo` are **negatively correlated** with `classification`."
   ]
  },
  {
   "cell_type": "markdown",
   "metadata": {},
   "source": [
    "**b.** Propose a deep learning-based model development plan using the **labeled data**. Please explain each step of your model and justifications wherever appropriate. You may answer this question in paragraph format, well-labeled schematics (e.g. flow-chart), and/or pseudocode. Your proposed model must include the following elements:\n",
    "\n",
    "- A feed-forward neural network consisting of at least 5 hidden layers\n",
    "- Split the **labeled data** into a **training portion** and a **validation portion**. You can decide on a ratio to perform this split.\n",
    "- Hyperparameters to optimize (e.g. learning rate, momentum)\n",
    "- Regularization (e.g. L1, L2, elastic-net, or deep learning-specific methods such as drop-out)"
   ]
  },
  {
   "cell_type": "markdown",
   "metadata": {},
   "source": [
    ">For my deep learning-based model development on the labeled data, I will be using Tensorflow's Keras to create a feed-forward neural network consisting of 5 hidden layers. I will split 70% of the labeled data as the training portion and 30% as the validation portion using `sklearn`'s `train_test_split` function. To create my feed-forward neural network, I will use `keras.models.Sequential` and to create my layers within this neural network, I will use `keras.layers.Dense`. The input layer will consist of a specified number of nodes/neurons, the `input_dim` which is the number of features/columns from the labeled data, and the `activation` parameter which will be `relu`. Before each of the 5 hidden layers and the output layers, I will add the regularization layer `Dropout` with a value of 0.3 to prevent overfitting. Each of the hidden layers will consist of a specified number of neurons/nodes and the `relu` activation parameter. The output layer will consist of only 1 neuron/node, as this is a classification problem, with a `activation` parameter of `sigmoid`. To run my neural network, I will use the `compile` function where I can specify my `optimizer`, `loss`, and `metrics`. My `optimizer` will be Adam, my `loss` will be `binary_crossentropy`, and my `metrics` will be accuracy. In the `optimizer` parameter, I can tune my hyperparameter of either learning rate, momentum, or decay. In this case, the default learning rate for the Adam optimizer is 0.001; I will first test my neural network using the default learning rate and if it performs horribly, I will change the learning rate. Once my neural network is compiled, I will fit it on the training portion, validate it with the validation portion, assess the performance, and apply it to the unlabeled data to output my predictions."
   ]
  },
  {
   "cell_type": "markdown",
   "metadata": {},
   "source": [
    "**c.** Train a feed-forward neural network model you have proposed in part _b_ using the **training portion of the labeled data** that you have split:\n",
    "\n",
    "- You may perform data transformation, feature selection, and/or feature engineering as you wish.\n",
    "- You may use any python libraries (e.g. *sklearn, Tensorflow/Keras, or PyTorch*) to complete this task.\n",
    "- However, you CANNOT use external software, models, or datasets to train the model."
   ]
  },
  {
   "cell_type": "code",
   "execution_count": 3,
   "metadata": {},
   "outputs": [
    {
     "data": {
      "text/plain": [
       "(300, 24)"
      ]
     },
     "execution_count": 3,
     "metadata": {},
     "output_type": "execute_result"
    }
   ],
   "source": [
    "# scale the data\n",
    "def scale(data):\n",
    "    mu = np.mean(data)\n",
    "    sd = np.std(data)\n",
    "    data = (data - mu)/sd\n",
    "    return data\n",
    "train_scaled = scale(train_data.drop(columns='classification'))\n",
    "train_scaled.shape"
   ]
  },
  {
   "cell_type": "code",
   "execution_count": 4,
   "metadata": {},
   "outputs": [
    {
     "name": "stdout",
     "output_type": "stream",
     "text": [
      "WARNING:tensorflow:From C:\\Users\\justi\\Anaconda3\\envs\\data_science_env\\lib\\site-packages\\tensorflow\\python\\framework\\op_def_library.py:263: colocate_with (from tensorflow.python.framework.ops) is deprecated and will be removed in a future version.\n",
      "Instructions for updating:\n",
      "Colocations handled automatically by placer.\n",
      "WARNING:tensorflow:From C:\\Users\\justi\\Anaconda3\\envs\\data_science_env\\lib\\site-packages\\keras\\backend\\tensorflow_backend.py:3445: calling dropout (from tensorflow.python.ops.nn_ops) with keep_prob is deprecated and will be removed in a future version.\n",
      "Instructions for updating:\n",
      "Please use `rate` instead of `keep_prob`. Rate should be set to `rate = 1 - keep_prob`.\n"
     ]
    }
   ],
   "source": [
    "# split the data: 70% training, 30% validation\n",
    "X_train, X_val, y_train, y_val = train_test_split(train_scaled,\n",
    "                                                 train_data['classification'],\n",
    "                                                 test_size = 0.3,\n",
    "                                                  random_state=50)\n",
    "\n",
    "model = Sequential([\n",
    "    Dense(256,input_dim = train_scaled.shape[1],\n",
    "          activation='relu'),\n",
    "    Dropout(0.3),\n",
    "    Dense(256, activation = 'relu'),\n",
    "    Dropout(0.3),\n",
    "    Dense(128, activation='relu'),\n",
    "    Dropout(0.3),\n",
    "    Dense(128, activation='relu'),\n",
    "    Dropout(0.3),\n",
    "    Dense(64, activation='relu'),\n",
    "    Dropout(0.3),\n",
    "    Dense(64, activation='relu'),\n",
    "    Dropout(0.3),\n",
    "    Dense(1, activation='sigmoid')\n",
    "])\n",
    "\n",
    "# tuning my hyperparameters\n",
    "adam = optimizers.Adam()\n",
    "\n",
    "# First test on default learning rate\n",
    "# default learning rate is 0.001\n",
    "model.compile(optimizer=adam, # or 'adam'\n",
    "              loss='binary_crossentropy',\n",
    "             metrics=['accuracy'])\n",
    "\n",
    "#Reference: https://www.tensorflow.org/guide/keras"
   ]
  },
  {
   "cell_type": "code",
   "execution_count": 5,
   "metadata": {},
   "outputs": [
    {
     "name": "stdout",
     "output_type": "stream",
     "text": [
      "WARNING:tensorflow:From C:\\Users\\justi\\Anaconda3\\envs\\data_science_env\\lib\\site-packages\\tensorflow\\python\\ops\\math_ops.py:3066: to_int32 (from tensorflow.python.ops.math_ops) is deprecated and will be removed in a future version.\n",
      "Instructions for updating:\n",
      "Use tf.cast instead.\n"
     ]
    }
   ],
   "source": [
    "es = EarlyStopping(monitor='val_loss',mode='min',verbose=0,patience=5)\n",
    "\n",
    "history = model.fit(X_train,\n",
    "                   y_train,\n",
    "                   epochs=20,\n",
    "                   batch_size=32,\n",
    "                   validation_data=(X_val,y_val),\n",
    "                    callbacks=[es],\n",
    "                   verbose=0)"
   ]
  },
  {
   "cell_type": "code",
   "execution_count": 6,
   "metadata": {},
   "outputs": [
    {
     "data": {
      "image/png": "[encoded data removed]",
      "text/plain": [
       "<Figure size 432x288 with 1 Axes>"
      ]
     },
     "metadata": {
      "needs_background": "light"
     },
     "output_type": "display_data"
    },
    {
     "data": {
      "image/png": "[encoded data removed]",
      "text/plain": [
       "<Figure size 432x288 with 1 Axes>"
      ]
     },
     "metadata": {
      "needs_background": "light"
     },
     "output_type": "display_data"
    }
   ],
   "source": [
    "history_dict = history.history\n",
    "\n",
    "train_acc = history_dict['acc']\n",
    "val_acc = history_dict['val_acc']\n",
    "train_loss = history_dict['loss']\n",
    "val_loss = history_dict['val_loss']\n",
    "\n",
    "epochs = range(1, len(train_acc) + 1)\n",
    "\n",
    "plt.plot(epochs, train_loss, label='Training loss')\n",
    "plt.plot(epochs, val_loss, label='Validation loss')\n",
    "plt.title('Training and validation loss')\n",
    "plt.xlabel('Epochs')\n",
    "plt.ylabel('Loss')\n",
    "plt.legend()\n",
    "\n",
    "plt.figure()\n",
    "\n",
    "plt.plot(epochs, train_acc, label='Training Accuracy')\n",
    "# b is for \"solid blue line\"\n",
    "plt.plot(epochs, val_acc, label='Validation Accuracy')\n",
    "plt.title('Training and validation accuracy')\n",
    "plt.xlabel('Epochs')\n",
    "plt.ylabel('Loss')\n",
    "plt.legend()\n",
    "\n",
    "plt.show()"
   ]
  },
  {
   "cell_type": "markdown",
   "metadata": {},
   "source": [
    "**d.** Apply your trained model to the **validation portion of the labeled data** which you have split. Show a *confusion matrix* and report *precision, recall, true positive rate, false positive rate*."
   ]
  },
  {
   "cell_type": "code",
   "execution_count": 7,
   "metadata": {},
   "outputs": [
    {
     "name": "stdout",
     "output_type": "stream",
     "text": [
      "Precision: 0.9836065573770492\n",
      "Recall: 1.0\n",
      "True Positive Rate: 1.0\n",
      "False Positive Rate: 0.03333333333333333\n",
      "[[29  1]\n",
      " [ 0 60]]\n",
      "Accuracy: 0.9888888888888889\n"
     ]
    }
   ],
   "source": [
    "y_pred = model.predict(X_val)\n",
    "tn, fp, fn, tp = confusion_matrix(y_val,np.around(y_pred,0)).ravel()\n",
    "print('Precision:',tp/(tp+fp))\n",
    "print('Recall:',tp/(tp+fn))\n",
    "print('True Positive Rate:',tp/(tp+fn))\n",
    "print('False Positive Rate:',fp/(fp+tn))\n",
    "conf_matrix = confusion_matrix(y_val,np.around(y_pred,0))\n",
    "print(conf_matrix)\n",
    "print('Accuracy:',accuracy_score(y_val,np.around(y_pred,0)))"
   ]
  },
  {
   "cell_type": "markdown",
   "metadata": {},
   "source": [
    "**e.** Apply your trained model to the **unlabeled data** (*hw3_unlabeled_data.csv, n=100*). Store your prediction as a new column named *\"classification\"* and export a **new CSV file. Please submit a copy of your saved CSV as a separate file on Canvas.**"
   ]
  },
  {
   "cell_type": "code",
   "execution_count": 8,
   "metadata": {},
   "outputs": [
    {
     "data": {
      "text/html": [
       "<div>\n",
       "<style scoped>\n",
       "    .dataframe tbody tr th:only-of-type {\n",
       "        vertical-align: middle;\n",
       "    }\n",
       "\n",
       "    .dataframe tbody tr th {\n",
       "        vertical-align: top;\n",
       "    }\n",
       "\n",
       "    .dataframe thead th {\n",
       "        text-align: right;\n",
       "    }\n",
       "</style>\n",
       "<table border=\"1\" class=\"dataframe\">\n",
       "  <thead>\n",
       "    <tr style=\"text-align: right;\">\n",
       "      <th></th>\n",
       "      <th>age</th>\n",
       "      <th>bp</th>\n",
       "      <th>sg</th>\n",
       "      <th>al</th>\n",
       "      <th>su</th>\n",
       "      <th>rbc</th>\n",
       "      <th>pc</th>\n",
       "      <th>pcc</th>\n",
       "      <th>ba</th>\n",
       "      <th>bgr</th>\n",
       "      <th>...</th>\n",
       "      <th>hemo</th>\n",
       "      <th>pcv</th>\n",
       "      <th>wc</th>\n",
       "      <th>rc</th>\n",
       "      <th>htn</th>\n",
       "      <th>dm</th>\n",
       "      <th>cad</th>\n",
       "      <th>appet</th>\n",
       "      <th>pe</th>\n",
       "      <th>ane</th>\n",
       "    </tr>\n",
       "  </thead>\n",
       "  <tbody>\n",
       "    <tr>\n",
       "      <th>patient_300</th>\n",
       "      <td>69</td>\n",
       "      <td>70</td>\n",
       "      <td>1.010</td>\n",
       "      <td>4</td>\n",
       "      <td>3</td>\n",
       "      <td>1</td>\n",
       "      <td>0</td>\n",
       "      <td>1</td>\n",
       "      <td>1</td>\n",
       "      <td>214</td>\n",
       "      <td>...</td>\n",
       "      <td>9.4</td>\n",
       "      <td>28</td>\n",
       "      <td>11500</td>\n",
       "      <td>3.3</td>\n",
       "      <td>1</td>\n",
       "      <td>1</td>\n",
       "      <td>1</td>\n",
       "      <td>1</td>\n",
       "      <td>1</td>\n",
       "      <td>1</td>\n",
       "    </tr>\n",
       "    <tr>\n",
       "      <th>patient_301</th>\n",
       "      <td>81</td>\n",
       "      <td>60</td>\n",
       "      <td>1.010</td>\n",
       "      <td>0</td>\n",
       "      <td>0</td>\n",
       "      <td>0</td>\n",
       "      <td>0</td>\n",
       "      <td>0</td>\n",
       "      <td>0</td>\n",
       "      <td>148</td>\n",
       "      <td>...</td>\n",
       "      <td>10.9</td>\n",
       "      <td>35</td>\n",
       "      <td>9400</td>\n",
       "      <td>2.4</td>\n",
       "      <td>1</td>\n",
       "      <td>1</td>\n",
       "      <td>1</td>\n",
       "      <td>0</td>\n",
       "      <td>1</td>\n",
       "      <td>0</td>\n",
       "    </tr>\n",
       "    <tr>\n",
       "      <th>patient_302</th>\n",
       "      <td>45</td>\n",
       "      <td>80</td>\n",
       "      <td>1.015</td>\n",
       "      <td>0</td>\n",
       "      <td>0</td>\n",
       "      <td>0</td>\n",
       "      <td>0</td>\n",
       "      <td>0</td>\n",
       "      <td>0</td>\n",
       "      <td>107</td>\n",
       "      <td>...</td>\n",
       "      <td>11.8</td>\n",
       "      <td>37</td>\n",
       "      <td>10200</td>\n",
       "      <td>4.2</td>\n",
       "      <td>0</td>\n",
       "      <td>0</td>\n",
       "      <td>0</td>\n",
       "      <td>1</td>\n",
       "      <td>0</td>\n",
       "      <td>0</td>\n",
       "    </tr>\n",
       "    <tr>\n",
       "      <th>patient_303</th>\n",
       "      <td>30</td>\n",
       "      <td>80</td>\n",
       "      <td>1.025</td>\n",
       "      <td>0</td>\n",
       "      <td>0</td>\n",
       "      <td>1</td>\n",
       "      <td>1</td>\n",
       "      <td>0</td>\n",
       "      <td>0</td>\n",
       "      <td>96</td>\n",
       "      <td>...</td>\n",
       "      <td>13.8</td>\n",
       "      <td>42</td>\n",
       "      <td>9000</td>\n",
       "      <td>4.5</td>\n",
       "      <td>0</td>\n",
       "      <td>0</td>\n",
       "      <td>0</td>\n",
       "      <td>1</td>\n",
       "      <td>0</td>\n",
       "      <td>0</td>\n",
       "    </tr>\n",
       "    <tr>\n",
       "      <th>patient_304</th>\n",
       "      <td>65</td>\n",
       "      <td>90</td>\n",
       "      <td>1.020</td>\n",
       "      <td>2</td>\n",
       "      <td>1</td>\n",
       "      <td>0</td>\n",
       "      <td>1</td>\n",
       "      <td>0</td>\n",
       "      <td>0</td>\n",
       "      <td>270</td>\n",
       "      <td>...</td>\n",
       "      <td>12.0</td>\n",
       "      <td>36</td>\n",
       "      <td>9800</td>\n",
       "      <td>4.9</td>\n",
       "      <td>1</td>\n",
       "      <td>1</td>\n",
       "      <td>0</td>\n",
       "      <td>0</td>\n",
       "      <td>0</td>\n",
       "      <td>1</td>\n",
       "    </tr>\n",
       "  </tbody>\n",
       "</table>\n",
       "<p>5 rows × 24 columns</p>\n",
       "</div>"
      ],
      "text/plain": [
       "             age  bp     sg  al  su  rbc  pc  pcc  ba  bgr  ...  hemo  pcv  \\\n",
       "patient_300   69  70  1.010   4   3    1   0    1   1  214  ...   9.4   28   \n",
       "patient_301   81  60  1.010   0   0    0   0    0   0  148  ...  10.9   35   \n",
       "patient_302   45  80  1.015   0   0    0   0    0   0  107  ...  11.8   37   \n",
       "patient_303   30  80  1.025   0   0    1   1    0   0   96  ...  13.8   42   \n",
       "patient_304   65  90  1.020   2   1    0   1    0   0  270  ...  12.0   36   \n",
       "\n",
       "                wc   rc  htn  dm  cad  appet  pe  ane  \n",
       "patient_300  11500  3.3    1   1    1      1   1    1  \n",
       "patient_301   9400  2.4    1   1    1      0   1    0  \n",
       "patient_302  10200  4.2    0   0    0      1   0    0  \n",
       "patient_303   9000  4.5    0   0    0      1   0    0  \n",
       "patient_304   9800  4.9    1   1    0      0   0    1  \n",
       "\n",
       "[5 rows x 24 columns]"
      ]
     },
     "execution_count": 8,
     "metadata": {},
     "output_type": "execute_result"
    }
   ],
   "source": [
    "test_data = pd.read_csv('hw3_unlabeled_data.csv',index_col=0)\n",
    "test_data.head()"
   ]
  },
  {
   "cell_type": "code",
   "execution_count": 9,
   "metadata": {},
   "outputs": [
    {
     "data": {
      "text/html": [
       "<div>\n",
       "<style scoped>\n",
       "    .dataframe tbody tr th:only-of-type {\n",
       "        vertical-align: middle;\n",
       "    }\n",
       "\n",
       "    .dataframe tbody tr th {\n",
       "        vertical-align: top;\n",
       "    }\n",
       "\n",
       "    .dataframe thead th {\n",
       "        text-align: right;\n",
       "    }\n",
       "</style>\n",
       "<table border=\"1\" class=\"dataframe\">\n",
       "  <thead>\n",
       "    <tr style=\"text-align: right;\">\n",
       "      <th></th>\n",
       "      <th>age</th>\n",
       "      <th>bp</th>\n",
       "      <th>sg</th>\n",
       "      <th>al</th>\n",
       "      <th>su</th>\n",
       "      <th>rbc</th>\n",
       "      <th>pc</th>\n",
       "      <th>pcc</th>\n",
       "      <th>ba</th>\n",
       "      <th>bgr</th>\n",
       "      <th>...</th>\n",
       "      <th>pcv</th>\n",
       "      <th>wc</th>\n",
       "      <th>rc</th>\n",
       "      <th>htn</th>\n",
       "      <th>dm</th>\n",
       "      <th>cad</th>\n",
       "      <th>appet</th>\n",
       "      <th>pe</th>\n",
       "      <th>ane</th>\n",
       "      <th>classification</th>\n",
       "    </tr>\n",
       "  </thead>\n",
       "  <tbody>\n",
       "    <tr>\n",
       "      <th>patient_300</th>\n",
       "      <td>69</td>\n",
       "      <td>70</td>\n",
       "      <td>1.010</td>\n",
       "      <td>4</td>\n",
       "      <td>3</td>\n",
       "      <td>1</td>\n",
       "      <td>0</td>\n",
       "      <td>1</td>\n",
       "      <td>1</td>\n",
       "      <td>214</td>\n",
       "      <td>...</td>\n",
       "      <td>28</td>\n",
       "      <td>11500</td>\n",
       "      <td>3.3</td>\n",
       "      <td>1</td>\n",
       "      <td>1</td>\n",
       "      <td>1</td>\n",
       "      <td>1</td>\n",
       "      <td>1</td>\n",
       "      <td>1</td>\n",
       "      <td>1</td>\n",
       "    </tr>\n",
       "    <tr>\n",
       "      <th>patient_301</th>\n",
       "      <td>81</td>\n",
       "      <td>60</td>\n",
       "      <td>1.010</td>\n",
       "      <td>0</td>\n",
       "      <td>0</td>\n",
       "      <td>0</td>\n",
       "      <td>0</td>\n",
       "      <td>0</td>\n",
       "      <td>0</td>\n",
       "      <td>148</td>\n",
       "      <td>...</td>\n",
       "      <td>35</td>\n",
       "      <td>9400</td>\n",
       "      <td>2.4</td>\n",
       "      <td>1</td>\n",
       "      <td>1</td>\n",
       "      <td>1</td>\n",
       "      <td>0</td>\n",
       "      <td>1</td>\n",
       "      <td>0</td>\n",
       "      <td>1</td>\n",
       "    </tr>\n",
       "    <tr>\n",
       "      <th>patient_302</th>\n",
       "      <td>45</td>\n",
       "      <td>80</td>\n",
       "      <td>1.015</td>\n",
       "      <td>0</td>\n",
       "      <td>0</td>\n",
       "      <td>0</td>\n",
       "      <td>0</td>\n",
       "      <td>0</td>\n",
       "      <td>0</td>\n",
       "      <td>107</td>\n",
       "      <td>...</td>\n",
       "      <td>37</td>\n",
       "      <td>10200</td>\n",
       "      <td>4.2</td>\n",
       "      <td>0</td>\n",
       "      <td>0</td>\n",
       "      <td>0</td>\n",
       "      <td>1</td>\n",
       "      <td>0</td>\n",
       "      <td>0</td>\n",
       "      <td>1</td>\n",
       "    </tr>\n",
       "    <tr>\n",
       "      <th>patient_303</th>\n",
       "      <td>30</td>\n",
       "      <td>80</td>\n",
       "      <td>1.025</td>\n",
       "      <td>0</td>\n",
       "      <td>0</td>\n",
       "      <td>1</td>\n",
       "      <td>1</td>\n",
       "      <td>0</td>\n",
       "      <td>0</td>\n",
       "      <td>96</td>\n",
       "      <td>...</td>\n",
       "      <td>42</td>\n",
       "      <td>9000</td>\n",
       "      <td>4.5</td>\n",
       "      <td>0</td>\n",
       "      <td>0</td>\n",
       "      <td>0</td>\n",
       "      <td>1</td>\n",
       "      <td>0</td>\n",
       "      <td>0</td>\n",
       "      <td>0</td>\n",
       "    </tr>\n",
       "    <tr>\n",
       "      <th>patient_304</th>\n",
       "      <td>65</td>\n",
       "      <td>90</td>\n",
       "      <td>1.020</td>\n",
       "      <td>2</td>\n",
       "      <td>1</td>\n",
       "      <td>0</td>\n",
       "      <td>1</td>\n",
       "      <td>0</td>\n",
       "      <td>0</td>\n",
       "      <td>270</td>\n",
       "      <td>...</td>\n",
       "      <td>36</td>\n",
       "      <td>9800</td>\n",
       "      <td>4.9</td>\n",
       "      <td>1</td>\n",
       "      <td>1</td>\n",
       "      <td>0</td>\n",
       "      <td>0</td>\n",
       "      <td>0</td>\n",
       "      <td>1</td>\n",
       "      <td>1</td>\n",
       "    </tr>\n",
       "  </tbody>\n",
       "</table>\n",
       "<p>5 rows × 25 columns</p>\n",
       "</div>"
      ],
      "text/plain": [
       "             age  bp     sg  al  su  rbc  pc  pcc  ba  bgr  ...  pcv     wc  \\\n",
       "patient_300   69  70  1.010   4   3    1   0    1   1  214  ...   28  11500   \n",
       "patient_301   81  60  1.010   0   0    0   0    0   0  148  ...   35   9400   \n",
       "patient_302   45  80  1.015   0   0    0   0    0   0  107  ...   37  10200   \n",
       "patient_303   30  80  1.025   0   0    1   1    0   0   96  ...   42   9000   \n",
       "patient_304   65  90  1.020   2   1    0   1    0   0  270  ...   36   9800   \n",
       "\n",
       "              rc  htn  dm  cad  appet  pe  ane  classification  \n",
       "patient_300  3.3    1   1    1      1   1    1               1  \n",
       "patient_301  2.4    1   1    1      0   1    0               1  \n",
       "patient_302  4.2    0   0    0      1   0    0               1  \n",
       "patient_303  4.5    0   0    0      1   0    0               0  \n",
       "patient_304  4.9    1   1    0      0   0    1               1  \n",
       "\n",
       "[5 rows x 25 columns]"
      ]
     },
     "execution_count": 9,
     "metadata": {},
     "output_type": "execute_result"
    }
   ],
   "source": [
    "test_scaled = scale(test_data)\n",
    "predictions = model.predict(test_scaled,batch_size=32)\n",
    "predictions = np.around(predictions,0)\n",
    "predictions = predictions.astype('int')\n",
    "test_data['classification'] = predictions\n",
    "test_data.head()"
   ]
  },
  {
   "cell_type": "code",
   "execution_count": 10,
   "metadata": {},
   "outputs": [
    {
     "data": {
      "text/plain": [
       "65"
      ]
     },
     "execution_count": 10,
     "metadata": {},
     "output_type": "execute_result"
    }
   ],
   "source": [
    "sum(test_data['classification'] == 1)"
   ]
  },
  {
   "cell_type": "code",
   "execution_count": 42,
   "metadata": {},
   "outputs": [],
   "source": [
    "test_data.to_csv('Lin_Justin_hw3_unlabeled_data_complete.csv')"
   ]
  },
  {
   "cell_type": "markdown",
   "metadata": {},
   "source": [
    "## Part II. Unsupervised Deep Learning for Data Representation "
   ]
  },
  {
   "cell_type": "markdown",
   "metadata": {},
   "source": [
    "From the Pan-cancer dataset (the data in the Canvas folder titled *PanCancer Data*, under *PCA Demo* in the *Programming Demos* folder), apply *t-SNE* to visualize the data. You may use the *sklearn* library. Please provide a description of your results."
   ]
  },
  {
   "cell_type": "code",
   "execution_count": 43,
   "metadata": {},
   "outputs": [
    {
     "data": {
      "text/html": [
       "<div>\n",
       "<style scoped>\n",
       "    .dataframe tbody tr th:only-of-type {\n",
       "        vertical-align: middle;\n",
       "    }\n",
       "\n",
       "    .dataframe tbody tr th {\n",
       "        vertical-align: top;\n",
       "    }\n",
       "\n",
       "    .dataframe thead th {\n",
       "        text-align: right;\n",
       "    }\n",
       "</style>\n",
       "<table border=\"1\" class=\"dataframe\">\n",
       "  <thead>\n",
       "    <tr style=\"text-align: right;\">\n",
       "      <th></th>\n",
       "      <th>gene_0</th>\n",
       "      <th>gene_1</th>\n",
       "      <th>gene_2</th>\n",
       "      <th>gene_3</th>\n",
       "      <th>gene_4</th>\n",
       "      <th>gene_5</th>\n",
       "      <th>gene_6</th>\n",
       "      <th>gene_7</th>\n",
       "      <th>gene_8</th>\n",
       "      <th>gene_9</th>\n",
       "      <th>...</th>\n",
       "      <th>gene_20521</th>\n",
       "      <th>gene_20522</th>\n",
       "      <th>gene_20523</th>\n",
       "      <th>gene_20524</th>\n",
       "      <th>gene_20525</th>\n",
       "      <th>gene_20526</th>\n",
       "      <th>gene_20527</th>\n",
       "      <th>gene_20528</th>\n",
       "      <th>gene_20529</th>\n",
       "      <th>gene_20530</th>\n",
       "    </tr>\n",
       "  </thead>\n",
       "  <tbody>\n",
       "    <tr>\n",
       "      <th>sample_0</th>\n",
       "      <td>0.0</td>\n",
       "      <td>2.017209</td>\n",
       "      <td>3.265527</td>\n",
       "      <td>5.478487</td>\n",
       "      <td>10.431999</td>\n",
       "      <td>0.0</td>\n",
       "      <td>7.175175</td>\n",
       "      <td>0.591871</td>\n",
       "      <td>0.0</td>\n",
       "      <td>0.0</td>\n",
       "      <td>...</td>\n",
       "      <td>4.926711</td>\n",
       "      <td>8.210257</td>\n",
       "      <td>9.723516</td>\n",
       "      <td>7.220030</td>\n",
       "      <td>9.119813</td>\n",
       "      <td>12.003135</td>\n",
       "      <td>9.650743</td>\n",
       "      <td>8.921326</td>\n",
       "      <td>5.286759</td>\n",
       "      <td>0.0</td>\n",
       "    </tr>\n",
       "    <tr>\n",
       "      <th>sample_1</th>\n",
       "      <td>0.0</td>\n",
       "      <td>0.592732</td>\n",
       "      <td>1.588421</td>\n",
       "      <td>7.586157</td>\n",
       "      <td>9.623011</td>\n",
       "      <td>0.0</td>\n",
       "      <td>6.816049</td>\n",
       "      <td>0.000000</td>\n",
       "      <td>0.0</td>\n",
       "      <td>0.0</td>\n",
       "      <td>...</td>\n",
       "      <td>4.593372</td>\n",
       "      <td>7.323865</td>\n",
       "      <td>9.740931</td>\n",
       "      <td>6.256586</td>\n",
       "      <td>8.381612</td>\n",
       "      <td>12.674552</td>\n",
       "      <td>10.517059</td>\n",
       "      <td>9.397854</td>\n",
       "      <td>2.094168</td>\n",
       "      <td>0.0</td>\n",
       "    </tr>\n",
       "    <tr>\n",
       "      <th>sample_2</th>\n",
       "      <td>0.0</td>\n",
       "      <td>3.511759</td>\n",
       "      <td>4.327199</td>\n",
       "      <td>6.881787</td>\n",
       "      <td>9.870730</td>\n",
       "      <td>0.0</td>\n",
       "      <td>6.972130</td>\n",
       "      <td>0.452595</td>\n",
       "      <td>0.0</td>\n",
       "      <td>0.0</td>\n",
       "      <td>...</td>\n",
       "      <td>5.125213</td>\n",
       "      <td>8.127123</td>\n",
       "      <td>10.908640</td>\n",
       "      <td>5.401607</td>\n",
       "      <td>9.911597</td>\n",
       "      <td>9.045255</td>\n",
       "      <td>9.788359</td>\n",
       "      <td>10.090470</td>\n",
       "      <td>1.683023</td>\n",
       "      <td>0.0</td>\n",
       "    </tr>\n",
       "    <tr>\n",
       "      <th>sample_3</th>\n",
       "      <td>0.0</td>\n",
       "      <td>3.663618</td>\n",
       "      <td>4.507649</td>\n",
       "      <td>6.659068</td>\n",
       "      <td>10.196184</td>\n",
       "      <td>0.0</td>\n",
       "      <td>7.843375</td>\n",
       "      <td>0.434882</td>\n",
       "      <td>0.0</td>\n",
       "      <td>0.0</td>\n",
       "      <td>...</td>\n",
       "      <td>6.076566</td>\n",
       "      <td>8.792959</td>\n",
       "      <td>10.141520</td>\n",
       "      <td>8.942805</td>\n",
       "      <td>9.601208</td>\n",
       "      <td>11.392682</td>\n",
       "      <td>9.694814</td>\n",
       "      <td>9.684365</td>\n",
       "      <td>3.292001</td>\n",
       "      <td>0.0</td>\n",
       "    </tr>\n",
       "    <tr>\n",
       "      <th>sample_4</th>\n",
       "      <td>0.0</td>\n",
       "      <td>2.655741</td>\n",
       "      <td>2.821547</td>\n",
       "      <td>6.539454</td>\n",
       "      <td>9.738265</td>\n",
       "      <td>0.0</td>\n",
       "      <td>6.566967</td>\n",
       "      <td>0.360982</td>\n",
       "      <td>0.0</td>\n",
       "      <td>0.0</td>\n",
       "      <td>...</td>\n",
       "      <td>5.996032</td>\n",
       "      <td>8.891425</td>\n",
       "      <td>10.373790</td>\n",
       "      <td>7.181162</td>\n",
       "      <td>9.846910</td>\n",
       "      <td>11.922439</td>\n",
       "      <td>9.217749</td>\n",
       "      <td>9.461191</td>\n",
       "      <td>5.110372</td>\n",
       "      <td>0.0</td>\n",
       "    </tr>\n",
       "  </tbody>\n",
       "</table>\n",
       "<p>5 rows × 20531 columns</p>\n",
       "</div>"
      ],
      "text/plain": [
       "          gene_0    gene_1    gene_2    gene_3     gene_4  gene_5    gene_6  \\\n",
       "sample_0     0.0  2.017209  3.265527  5.478487  10.431999     0.0  7.175175   \n",
       "sample_1     0.0  0.592732  1.588421  7.586157   9.623011     0.0  6.816049   \n",
       "sample_2     0.0  3.511759  4.327199  6.881787   9.870730     0.0  6.972130   \n",
       "sample_3     0.0  3.663618  4.507649  6.659068  10.196184     0.0  7.843375   \n",
       "sample_4     0.0  2.655741  2.821547  6.539454   9.738265     0.0  6.566967   \n",
       "\n",
       "            gene_7  gene_8  gene_9  ...  gene_20521  gene_20522  gene_20523  \\\n",
       "sample_0  0.591871     0.0     0.0  ...    4.926711    8.210257    9.723516   \n",
       "sample_1  0.000000     0.0     0.0  ...    4.593372    7.323865    9.740931   \n",
       "sample_2  0.452595     0.0     0.0  ...    5.125213    8.127123   10.908640   \n",
       "sample_3  0.434882     0.0     0.0  ...    6.076566    8.792959   10.141520   \n",
       "sample_4  0.360982     0.0     0.0  ...    5.996032    8.891425   10.373790   \n",
       "\n",
       "          gene_20524  gene_20525  gene_20526  gene_20527  gene_20528  \\\n",
       "sample_0    7.220030    9.119813   12.003135    9.650743    8.921326   \n",
       "sample_1    6.256586    8.381612   12.674552   10.517059    9.397854   \n",
       "sample_2    5.401607    9.911597    9.045255    9.788359   10.090470   \n",
       "sample_3    8.942805    9.601208   11.392682    9.694814    9.684365   \n",
       "sample_4    7.181162    9.846910   11.922439    9.217749    9.461191   \n",
       "\n",
       "          gene_20529  gene_20530  \n",
       "sample_0    5.286759         0.0  \n",
       "sample_1    2.094168         0.0  \n",
       "sample_2    1.683023         0.0  \n",
       "sample_3    3.292001         0.0  \n",
       "sample_4    5.110372         0.0  \n",
       "\n",
       "[5 rows x 20531 columns]"
      ]
     },
     "execution_count": 43,
     "metadata": {},
     "output_type": "execute_result"
    }
   ],
   "source": [
    "rnaseq = pd.read_csv('PanCancer Data/data.csv',index_col=0)\n",
    "rnaseq.head()"
   ]
  },
  {
   "cell_type": "code",
   "execution_count": 44,
   "metadata": {},
   "outputs": [
    {
     "data": {
      "text/html": [
       "<div>\n",
       "<style scoped>\n",
       "    .dataframe tbody tr th:only-of-type {\n",
       "        vertical-align: middle;\n",
       "    }\n",
       "\n",
       "    .dataframe tbody tr th {\n",
       "        vertical-align: top;\n",
       "    }\n",
       "\n",
       "    .dataframe thead th {\n",
       "        text-align: right;\n",
       "    }\n",
       "</style>\n",
       "<table border=\"1\" class=\"dataframe\">\n",
       "  <thead>\n",
       "    <tr style=\"text-align: right;\">\n",
       "      <th></th>\n",
       "      <th>Class</th>\n",
       "    </tr>\n",
       "  </thead>\n",
       "  <tbody>\n",
       "    <tr>\n",
       "      <th>sample_0</th>\n",
       "      <td>PRAD</td>\n",
       "    </tr>\n",
       "    <tr>\n",
       "      <th>sample_1</th>\n",
       "      <td>LUAD</td>\n",
       "    </tr>\n",
       "    <tr>\n",
       "      <th>sample_2</th>\n",
       "      <td>PRAD</td>\n",
       "    </tr>\n",
       "    <tr>\n",
       "      <th>sample_3</th>\n",
       "      <td>PRAD</td>\n",
       "    </tr>\n",
       "    <tr>\n",
       "      <th>sample_4</th>\n",
       "      <td>BRCA</td>\n",
       "    </tr>\n",
       "  </tbody>\n",
       "</table>\n",
       "</div>"
      ],
      "text/plain": [
       "         Class\n",
       "sample_0  PRAD\n",
       "sample_1  LUAD\n",
       "sample_2  PRAD\n",
       "sample_3  PRAD\n",
       "sample_4  BRCA"
      ]
     },
     "execution_count": 44,
     "metadata": {},
     "output_type": "execute_result"
    }
   ],
   "source": [
    "labels = pd.read_csv('PanCancer Data/labels.csv', index_col = 0)\n",
    "labels.head()"
   ]
  },
  {
   "cell_type": "code",
   "execution_count": 45,
   "metadata": {},
   "outputs": [
    {
     "data": {
      "text/plain": [
       "Text(0, 0.5, 't-SNE 2')"
      ]
     },
     "execution_count": 45,
     "metadata": {},
     "output_type": "execute_result"
    },
    {
     "data": {
      "image/png": "[encoded data removed]",
      "text/plain": [
       "<Figure size 432x288 with 1 Axes>"
      ]
     },
     "metadata": {
      "needs_background": "light"
     },
     "output_type": "display_data"
    }
   ],
   "source": [
    "from sklearn.manifold import TSNE\n",
    "\n",
    "X = rnaseq.values\n",
    "y = labels['Class'].values\n",
    "\n",
    "X_embedded = TSNE(n_components=2).fit_transform(X)\n",
    "\n",
    "for i in np.unique(y):\n",
    "    plt.scatter(X_embedded[y==i,0],X_embedded[y==i,1],\n",
    "               lw=0.1,label=i)\n",
    "plt.title('t-SNE of PanCancer RNA-seq Data')\n",
    "plt.legend()\n",
    "plt.xlabel('t-SNE 1')\n",
    "plt.ylabel('t-SNE 2')"
   ]
  },
  {
   "cell_type": "markdown",
   "metadata": {},
   "source": [
    "From the t-SNE plot, we can see 5 distinct clusters however, there appears to be a red dot on the BRCA (blue) cluster."
   ]
  }
 ],
 "metadata": {
  "kernelspec": {
   "display_name": "Python 3",
   "language": "python",
   "name": "python3"
  },
  "language_info": {
   "codemirror_mode": {
    "name": "ipython",
    "version": 3
   },
   "file_extension": ".py",
   "mimetype": "text/x-python",
   "name": "python",
   "nbconvert_exporter": "python",
   "pygments_lexer": "ipython3",
   "version": "3.6.8"
  }
 },
 "nbformat": 4,
 "nbformat_minor": 2
}
